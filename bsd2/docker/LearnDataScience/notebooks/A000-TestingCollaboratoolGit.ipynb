{
 "metadata": {
  "name": ""
 },
 "nbformat": 3,
 "nbformat_minor": 0,
 "worksheets": [
  {
   "cells": [
    {
     "cell_type": "markdown",
     "metadata": {},
     "source": [
      "Hello this is some text from Nitin.  Dav should edit this gratuitously so we can do text messaging via git/ipynb"
     ]
    }
   ],
   "metadata": {}
  }
 ]
}